{
  "nbformat": 4,
  "nbformat_minor": 0,
  "metadata": {
    "colab": {
      "provenance": []
    },
    "kernelspec": {
      "name": "python3",
      "display_name": "Python 3"
    },
    "language_info": {
      "name": "python"
    }
  },
  "cells": [
    {
      "cell_type": "markdown",
      "source": [
        "# Clases, herencias y polimorfismos\n",
        "## Definiciones\n"
      ],
      "metadata": {
        "id": "_EGbCqZWlpxF"
      }
    },
    {
      "cell_type": "code",
      "execution_count": null,
      "metadata": {
        "id": "1fGEuPYOlbJD"
      },
      "outputs": [],
      "source": [
        "#def\n",
        "def Milanesi(a,b,c):\n",
        "  x=a+b*c\n",
        "  return x"
      ]
    },
    {
      "cell_type": "code",
      "source": [
        "Milanesi(1,2,3)"
      ],
      "metadata": {
        "colab": {
          "base_uri": "https://localhost:8080/"
        },
        "id": "Unu-SFTTpbip",
        "outputId": "5b2ec9e8-4dee-429b-b693-d31dcb11019f"
      },
      "execution_count": null,
      "outputs": [
        {
          "output_type": "execute_result",
          "data": {
            "text/plain": [
              "7"
            ]
          },
          "metadata": {},
          "execution_count": 2
        }
      ]
    },
    {
      "cell_type": "code",
      "source": [
        "# Vamos a crear una definición que calcule la inversa de una matriz"
      ],
      "metadata": {
        "id": "mbgni0z7pgsM"
      },
      "execution_count": null,
      "outputs": []
    },
    {
      "cell_type": "code",
      "source": [
        "import numpy as np\n",
        "def Inv_Matrix(M):\n",
        "  x=np.linalg.inv(M)\n",
        "  return x"
      ],
      "metadata": {
        "id": "t9sQBUEhpsk6"
      },
      "execution_count": null,
      "outputs": []
    },
    {
      "cell_type": "code",
      "source": [
        "Matrix=np.random.randint(low=0,high=100,size=(10,10))\n",
        "Matrix"
      ],
      "metadata": {
        "colab": {
          "base_uri": "https://localhost:8080/"
        },
        "id": "bW_fn5rfqvt6",
        "outputId": "c20f5641-2583-48fe-8b0a-b9a58fb8a725"
      },
      "execution_count": null,
      "outputs": [
        {
          "output_type": "execute_result",
          "data": {
            "text/plain": [
              "array([[66, 39,  3, 61, 96, 67, 11, 94,  6, 66],\n",
              "       [29, 47, 94, 79, 94,  4, 47, 54, 67, 26],\n",
              "       [54, 39, 81, 46, 52, 31, 34, 29, 99, 61],\n",
              "       [55, 93, 53, 83, 95, 72, 62, 24, 63, 58],\n",
              "       [97, 59, 54,  3, 35, 68, 64, 88, 33, 39],\n",
              "       [ 8, 33, 46, 89, 83, 72, 42, 55, 45, 47],\n",
              "       [ 0, 43, 29, 71, 90, 98, 11, 21, 93, 23],\n",
              "       [26, 47, 28, 45, 53, 23, 37,  0, 23, 89],\n",
              "       [16, 90, 56, 82,  3,  2,  9, 86, 29, 94],\n",
              "       [69, 65, 27, 99, 28, 78,  4, 78, 28, 78]])"
            ]
          },
          "metadata": {},
          "execution_count": 9
        }
      ]
    },
    {
      "cell_type": "code",
      "source": [
        "Inv_Matrix(Matrix)\n"
      ],
      "metadata": {
        "colab": {
          "base_uri": "https://localhost:8080/"
        },
        "id": "wuVtdcx-rMbG",
        "outputId": "032c1b5e-a864-49a2-d40a-01e86468c428"
      },
      "execution_count": null,
      "outputs": [
        {
          "output_type": "execute_result",
          "data": {
            "text/plain": [
              "array([[-0.03136371,  0.01550605, -0.02936818, -0.00628901, -0.0361737 ,\n",
              "         0.04323432,  0.01235983,  0.02954001, -0.0094829 ,  0.00461555],\n",
              "       [-0.03824111,  0.01176831, -0.02879694,  0.01208042, -0.02425283,\n",
              "         0.02249601, -0.0071035 ,  0.04140823, -0.0047052 ,  0.00868581],\n",
              "       [-0.01251329,  0.00927869, -0.01288524,  0.00263421, -0.02451388,\n",
              "         0.02054955,  0.01349702,  0.01454009, -0.01458668, -0.00058695],\n",
              "       [ 0.00717171,  0.00777101,  0.00163617, -0.00551744, -0.00215002,\n",
              "         0.00748346,  0.00071994, -0.0105553 ,  0.00606933, -0.00673704],\n",
              "       [ 0.01431101, -0.01083907,  0.02135491, -0.00480844,  0.00649375,\n",
              "        -0.01412026, -0.00414241, -0.01218969, -0.00730659,  0.01044002],\n",
              "       [ 0.02823492, -0.00713988,  0.02088273, -0.00520088,  0.02541372,\n",
              "        -0.01745832, -0.00424627, -0.02030779,  0.00352452, -0.01217142],\n",
              "       [ 0.01637227, -0.00798403,  0.0158851 ,  0.00399409,  0.03074411,\n",
              "        -0.03271731, -0.0103301 , -0.01831634, -0.00202048,  0.00876669],\n",
              "       [ 0.02642012, -0.01622837,  0.00942796,  0.00470904,  0.00821613,\n",
              "        -0.01487685,  0.01016326, -0.01854969,  0.00761206, -0.00979209],\n",
              "       [-0.06182248,  0.01602743, -0.0344184 ,  0.01404121, -0.02822907,\n",
              "         0.03634031, -0.00793043,  0.04735988,  0.00467324,  0.00518911],\n",
              "       [ 0.05916542, -0.01914926,  0.04329395, -0.01458194,  0.05069469,\n",
              "        -0.05736347, -0.00225626, -0.05294608,  0.01364566, -0.00227854]])"
            ]
          },
          "metadata": {},
          "execution_count": 8
        }
      ]
    },
    {
      "cell_type": "code",
      "source": [
        "np.linalg.det(Matrix)"
      ],
      "metadata": {
        "colab": {
          "base_uri": "https://localhost:8080/"
        },
        "id": "TQLTvgRFrTtU",
        "outputId": "6b2fdaff-c540-4aee-9d90-8d6b48f7762b"
      },
      "execution_count": null,
      "outputs": [
        {
          "output_type": "execute_result",
          "data": {
            "text/plain": [
              "-1.9699847948018122e+18"
            ]
          },
          "metadata": {},
          "execution_count": 10
        }
      ]
    },
    {
      "cell_type": "code",
      "source": [
        "Matrix.shape"
      ],
      "metadata": {
        "colab": {
          "base_uri": "https://localhost:8080/"
        },
        "id": "HtMErvCrtkaN",
        "outputId": "a456b374-387a-4be9-ded6-202122180a9a"
      },
      "execution_count": null,
      "outputs": [
        {
          "output_type": "execute_result",
          "data": {
            "text/plain": [
              "(10, 10)"
            ]
          },
          "metadata": {},
          "execution_count": 11
        }
      ]
    },
    {
      "cell_type": "code",
      "source": [],
      "metadata": {
        "id": "LLvJl0Pwz-YN"
      },
      "execution_count": null,
      "outputs": []
    }
  ]
}