{
  "nbformat": 4,
  "nbformat_minor": 0,
  "metadata": {
    "colab": {
      "provenance": []
    },
    "kernelspec": {
      "name": "python3",
      "display_name": "Python 3"
    },
    "language_info": {
      "name": "python"
    }
  },
  "cells": [
    {
      "cell_type": "code",
      "execution_count": 1,
      "metadata": {
        "colab": {
          "base_uri": "https://localhost:8080/"
        },
        "id": "uzZ1iqlFC-g1",
        "outputId": "fb1bb918-36e2-48d4-dbbd-7ea2210ddd8a"
      },
      "outputs": [
        {
          "output_type": "stream",
          "name": "stdout",
          "text": [
            "El número no es par\n"
          ]
        }
      ],
      "source": [
        "x=3\n",
        "if x % 2 ==0:\n",
        "  if x>10:\n",
        "    print(\"El numero es par y es mayor a 10\")\n",
        "  else:\n",
        "    print(\"El numero es par pero no es mayor a 10\")\n",
        "else:\n",
        "  print(\"El número no es par\")"
      ]
    },
    {
      "cell_type": "code",
      "source": [],
      "metadata": {
        "id": "SRrrFe19DtLT"
      },
      "execution_count": null,
      "outputs": []
    }
  ]
}