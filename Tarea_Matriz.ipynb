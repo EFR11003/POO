{
  "nbformat": 4,
  "nbformat_minor": 0,
  "metadata": {
    "colab": {
      "provenance": []
    },
    "kernelspec": {
      "name": "python3",
      "display_name": "Python 3"
    },
    "language_info": {
      "name": "python"
    }
  },
  "cells": [
    {
      "cell_type": "code",
      "execution_count": 1,
      "metadata": {
        "id": "rd9QzSMYFMka"
      },
      "outputs": [],
      "source": [
        "import numpy as np"
      ]
    },
    {
      "cell_type": "code",
      "source": [
        "matriz=np.random.randint(low=0,high=99,size=(10,10))\n",
        "matriz"
      ],
      "metadata": {
        "colab": {
          "base_uri": "https://localhost:8080/"
        },
        "id": "HpXCXB_hFSiO",
        "outputId": "03a288ae-23d8-4c18-ef09-d2763a9a1311"
      },
      "execution_count": 8,
      "outputs": [
        {
          "output_type": "execute_result",
          "data": {
            "text/plain": [
              "array([[63, 41, 76, 56,  1, 27, 67, 98, 73, 63],\n",
              "       [76, 29, 39, 24, 73, 65, 39, 18, 57, 54],\n",
              "       [27, 95,  3, 84, 56, 84, 62,  7, 47, 83],\n",
              "       [95, 17,  2, 20,  2, 29, 58, 20,  5, 62],\n",
              "       [97, 89,  4, 64, 60, 75, 29,  2, 42, 83],\n",
              "       [26, 29, 68, 72, 38, 86, 19, 46, 19, 39],\n",
              "       [59, 59, 96, 64, 62, 41, 14, 35, 58, 27],\n",
              "       [63, 73, 16, 49,  2, 68, 45, 55, 24,  8],\n",
              "       [34, 39, 21, 73, 23, 61, 66, 15, 23, 35],\n",
              "       [28, 65, 62,  4, 25, 35, 32, 68, 32, 38]])"
            ]
          },
          "metadata": {},
          "execution_count": 8
        }
      ]
    },
    {
      "cell_type": "code",
      "source": [],
      "metadata": {
        "id": "7b1scPohFeEW"
      },
      "execution_count": null,
      "outputs": []
    }
  ]
}