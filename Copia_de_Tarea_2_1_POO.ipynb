{
  "nbformat": 4,
  "nbformat_minor": 0,
  "metadata": {
    "colab": {
      "provenance": []
    },
    "kernelspec": {
      "name": "python3",
      "display_name": "Python 3"
    },
    "language_info": {
      "name": "python"
    }
  },
  "cells": [
    {
      "cell_type": "markdown",
      "source": [
        "## Tarea\n",
        "### Instrucciones:\n",
        "\n",
        "\n",
        "*   La tarea se entrega individualmente.\n",
        "*   Leer los lineamientos e instrucciones que se enuentran en Moodle.\n",
        "*   Sube tu Notebook a tu GitHub\n",
        "*  La entrega se hace por Moodle compartiendo tu liga a GitHub.\n",
        "*  Fecha de entrega  **Martes 26 de septiembre antes de las 20:00hrs**\n",
        "*  Si existiera duda alguna, mandarlas por email.\n",
        "\n"
      ],
      "metadata": {
        "id": "-DR7LcQd27OM"
      }
    },
    {
      "cell_type": "code",
      "source": [
        "# Crea una clase que se llame Animal\n",
        "class Animal():\n",
        "# define un inicializador que contenga dos argumentos (a y b) que asignarás\n",
        "    def __init__(self,a,b):\n",
        "      self.a=a\n",
        "      self.b=b\n",
        "\n",
        "\n",
        "# Crea una clase heredada que se llame Mascota\n",
        "class Mascota(Animal):\n",
        "    # usar super(), (objeto temporal de la superclase) nos permite acceder a métodos de la clase madre\n",
        "\n",
        "    # define tres métodos asociados a Mascota\n",
        "    def __init__(self):\n",
        "      Animal.__init__(self)\n",
        "      super().__init__(self)\n",
        "\n",
        "    def animal(self):\n",
        "      print(\"Perro\")\n",
        "\n",
        "    def raza(self):\n",
        "      print(\"Bulldog\")\n",
        "\n",
        "    def velocidad(self):\n",
        "      print (\"10 km/h\")"
      ],
      "metadata": {
        "id": "scsnMvfv7MXN"
      },
      "execution_count": 11,
      "outputs": []
    },
    {
      "cell_type": "code",
      "source": [
        "# Crea dos clases que tengan asignados nombres de Países.\n",
        "class Mexico():\n",
        "  def __init__(self):\n",
        "    print(\"Ya se inicio\")\n",
        "  def capital(self):\n",
        "    print(\"Mexico\")\n",
        "  def idioma(self):\n",
        "    print(\"Español\")\n",
        "  def tamaño(self):\n",
        "    print(\"600000 km2\")\n",
        "\n",
        "\n",
        "class Francia():\n",
        "  def __init__(self):\n",
        "    print(\"Ya se inicio\")\n",
        "  def capital(self):\n",
        "    print(\"Paris\")\n",
        "  def idioma(self):\n",
        "    print(\"Frances\")\n",
        "  def tamaño(self):\n",
        "    print(\"400000 km2\")\n",
        "\n",
        "# Para cada clase, define al menos tres características del País considerado: por ejemplo, capital, idioma, etcétera\n",
        "\n",
        "# Define dos variables que sean cursores\n",
        "mex=Mexico()\n",
        "francia=Francia()\n",
        "\n",
        "\n",
        "# Comenta tus resultados\n",
        "mex.tamaño()\n",
        "francia.idioma()\n",
        "francia.tamaño()"
      ],
      "metadata": {
        "id": "ZielRh0TBBEv",
        "colab": {
          "base_uri": "https://localhost:8080/"
        },
        "outputId": "39c7f00d-b46e-4042-a5fb-686500efd97a"
      },
      "execution_count": 42,
      "outputs": [
        {
          "output_type": "stream",
          "name": "stdout",
          "text": [
            "Ya se inicio\n",
            "Ya se inicio\n",
            "600000 km2\n",
            "Frances\n",
            "400000 km2\n"
          ]
        }
      ]
    },
    {
      "cell_type": "code",
      "execution_count": 43,
      "metadata": {
        "id": "3d4VtN9D7FWB",
        "colab": {
          "base_uri": "https://localhost:8080/"
        },
        "outputId": "fd992edd-e422-4b76-f267-2ddac705bec8"
      },
      "outputs": [
        {
          "output_type": "stream",
          "name": "stdout",
          "text": [
            "Ya se inicio la clase madre\n",
            "Ya se inicio la clase madre\n"
          ]
        }
      ],
      "source": [
        "## Ejemplo de polimorfismo de clase y herencia.\n",
        "import numpy as np\n",
        "# Crea una clase madre que se llame Forma\n",
        "class Forma():\n",
        "  def __init__(self):\n",
        "    print(\"Ya se inicio la clase madre\")\n",
        "\n",
        "class Circulo(Forma):\n",
        "  def __init__(self):\n",
        "    Forma.__init__(self)\n",
        "  def area(self, r):\n",
        "    p=r*r\n",
        "    a=3.1416*p\n",
        "    print(f\"El area del circulo es {a}\")\n",
        "  def perimetro (self, r):\n",
        "    per=2*3.1416*r\n",
        "    print(f\"El perimetro del circulo es {per}\")\n",
        "\n",
        "class Cuadrado(Forma):\n",
        "  def __init__(self):\n",
        "    Forma.__init__(self)\n",
        "  def area(self, b, a):\n",
        "    a=b*a\n",
        "    print(f\"El area del cuadrado es {a}\")\n",
        "  def perimetro (self, b, a):\n",
        "    per=b+b+a+a\n",
        "    print(f\"El perimetro del cuadrado es {per}\")\n",
        "\n",
        "\n",
        "# Crea dos clases heredadas de la clase madre Forma que calcule el área y el perímetro de un círculo\n",
        "# y de un cuadrado, respectivamente.\n",
        "\n",
        "circulo=Circulo()\n",
        "cuadrado=Cuadrado()\n",
        "\n"
      ]
    },
    {
      "cell_type": "code",
      "source": [
        "circulo.area(4)"
      ],
      "metadata": {
        "colab": {
          "base_uri": "https://localhost:8080/"
        },
        "id": "S9iddaLh6dTr",
        "outputId": "17f76a1a-feef-4e8e-f78b-19e3ca81625b"
      },
      "execution_count": 44,
      "outputs": [
        {
          "output_type": "stream",
          "name": "stdout",
          "text": [
            "El area del circulo es 50.2656\n"
          ]
        }
      ]
    },
    {
      "cell_type": "code",
      "source": [
        "cuadrado.perimetro(4,6)"
      ],
      "metadata": {
        "colab": {
          "base_uri": "https://localhost:8080/"
        },
        "id": "y7jBP83R-9fv",
        "outputId": "406a85df-43b4-4a74-fa87-3112e53c7353"
      },
      "execution_count": 45,
      "outputs": [
        {
          "output_type": "stream",
          "name": "stdout",
          "text": [
            "El perimetro del cuadrado es 20\n"
          ]
        }
      ]
    },
    {
      "cell_type": "code",
      "source": [
        "cuadrado.area(5,5)"
      ],
      "metadata": {
        "colab": {
          "base_uri": "https://localhost:8080/"
        },
        "id": "d48g7p8r_B40",
        "outputId": "de44b532-4870-4527-c611-48a2f4bebc0a"
      },
      "execution_count": 46,
      "outputs": [
        {
          "output_type": "stream",
          "name": "stdout",
          "text": [
            "El area del cuadrado es 25\n"
          ]
        }
      ]
    },
    {
      "cell_type": "code",
      "source": [],
      "metadata": {
        "id": "4TU-CuQR_G8-"
      },
      "execution_count": null,
      "outputs": []
    }
  ]
}