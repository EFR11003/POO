{
  "cells": [
    {
      "cell_type": "markdown",
      "metadata": {
        "id": "HY887tezoANO"
      },
      "source": [
        "# OOP - Inheritance and Polymorphism in Python"
      ]
    },
    {
      "cell_type": "code",
      "execution_count": 14,
      "metadata": {
        "id": "pxLRgSSxoANR"
      },
      "outputs": [],
      "source": [
        "class Animal(): #OBJETO AL QUE SE LE ASIGNARAN DISTINTOS ATRIBUTOS\n",
        "\n",
        "    def __init__(self): #INICIALIZAR LA CLASE                #SELF ES AUTOASIGNACIÓN\n",
        "        print(\"Animal class creada\")\n",
        "\n",
        "    def guess_who(self):\n",
        "        print(\"Soy un animalito\")\n",
        "\n",
        "    def sleep(self):\n",
        "        print(\"Estoy durmiendo\")"
      ]
    },
    {
      "cell_type": "code",
      "execution_count": 15,
      "metadata": {
        "id": "nEmsoWZgoANR",
        "outputId": "628a4b3e-e915-4ea6-edb7-d9cbb0a1b7b4",
        "colab": {
          "base_uri": "https://localhost:8080/"
        }
      },
      "outputs": [
        {
          "output_type": "stream",
          "name": "stdout",
          "text": [
            "Animal class creada\n"
          ]
        }
      ],
      "source": [
        "my_animal = Animal() #CUANDO NO PONEMOS NADA ADENTRO SE LLAMA CURSOR"
      ]
    },
    {
      "cell_type": "code",
      "execution_count": 16,
      "metadata": {
        "id": "1E85DdT4oANS",
        "outputId": "c08049d4-8570-4a62-d507-1c6e4d165a82",
        "colab": {
          "base_uri": "https://localhost:8080/"
        }
      },
      "outputs": [
        {
          "output_type": "stream",
          "name": "stdout",
          "text": [
            "Estoy durmiendo\n"
          ]
        }
      ],
      "source": [
        "my_animal.sleep() # EL PUNTO ES PARA INGRESAR A LA FUNCION DE LA CLASE"
      ]
    },
    {
      "cell_type": "code",
      "execution_count": 17,
      "metadata": {
        "id": "1pMg4fJ3oANS"
      },
      "outputs": [],
      "source": [
        "#HERENCIA\n",
        "class Cat(Animal): # ESTA NUEVA CLASE SE OBLTIENE A PARTIR DE LA CLASE MAESTRA SUBORDINANDA A ESTA\n",
        "\n",
        "    def __init__(self): #INICIALIZAR FUNCIONES DENTRO DE LA CLASE CAT\n",
        "        Animal.__init__(self) #INICIALIZA LA CLASE MAESTRA DENTRO DE LA SUBORDINADA\n",
        "        print(\"Cat class creada\")\n",
        "\n",
        "    def guess_who(self):\n",
        "        print(\"Soy un gatito\")\n",
        "\n",
        "    def meow(self):\n",
        "        print(\"MEOWW!\")"
      ]
    },
    {
      "cell_type": "code",
      "execution_count": 18,
      "metadata": {
        "id": "d_GJe14ioANT",
        "outputId": "ff71ea60-8568-4244-f114-a0791dd10f3e",
        "colab": {
          "base_uri": "https://localhost:8080/"
        }
      },
      "outputs": [
        {
          "output_type": "stream",
          "name": "stdout",
          "text": [
            "Animal class creada\n",
            "Cat class creada\n"
          ]
        }
      ],
      "source": [
        "my_cat = Cat()"
      ]
    },
    {
      "cell_type": "code",
      "execution_count": 19,
      "metadata": {
        "id": "Q_F54Py6oANT",
        "outputId": "649715bb-fb43-4272-b37f-d860f173e59c",
        "colab": {
          "base_uri": "https://localhost:8080/"
        }
      },
      "outputs": [
        {
          "output_type": "stream",
          "name": "stdout",
          "text": [
            "Soy un gatito\n"
          ]
        }
      ],
      "source": [
        "my_cat.guess_who()"
      ]
    },
    {
      "cell_type": "code",
      "execution_count": 20,
      "metadata": {
        "id": "Pt4MmGPOoANT",
        "outputId": "47cb9cac-dc00-43b5-9e3b-3a1c465ddd79",
        "colab": {
          "base_uri": "https://localhost:8080/"
        }
      },
      "outputs": [
        {
          "output_type": "stream",
          "name": "stdout",
          "text": [
            "MEOWW!\n"
          ]
        }
      ],
      "source": [
        "my_cat.meow()"
      ]
    },
    {
      "cell_type": "markdown",
      "metadata": {
        "id": "2-RCIT2OoANT"
      },
      "source": [
        "## Polymorphism\n",
        "\n"
      ]
    },
    {
      "cell_type": "code",
      "execution_count": 21,
      "metadata": {
        "id": "3doTm2KgoANU"
      },
      "outputs": [],
      "source": [
        "class Doggy():\n",
        "\n",
        "    def __init__(self,name):\n",
        "        self.name = name\n",
        "\n",
        "    def speak(self):\n",
        "        return self.name + \" says WOOF\""
      ]
    },
    {
      "cell_type": "code",
      "execution_count": 22,
      "metadata": {
        "id": "nGiW3SdboANU"
      },
      "outputs": [],
      "source": [
        "class Catty():\n",
        "\n",
        "    def __init__(self,name):\n",
        "\n",
        "        self.name = name\n",
        "\n",
        "    def speak(self):\n",
        "        return self.name + \" says MEOW\""
      ]
    },
    {
      "cell_type": "code",
      "execution_count": 23,
      "metadata": {
        "id": "p5JWA0i6oANU"
      },
      "outputs": [],
      "source": [
        "my_dog = Doggy(\"Buzo\")\n",
        "my_cat = Catty(\"Tim\")"
      ]
    },
    {
      "cell_type": "code",
      "execution_count": 24,
      "metadata": {
        "id": "4FYvR1ZFoANU",
        "outputId": "9feac76c-4add-407e-81f7-5db4e328160f",
        "colab": {
          "base_uri": "https://localhost:8080/"
        }
      },
      "outputs": [
        {
          "output_type": "stream",
          "name": "stdout",
          "text": [
            "Buzo says WOOF\n"
          ]
        }
      ],
      "source": [
        "print(my_dog.speak())"
      ]
    },
    {
      "cell_type": "code",
      "execution_count": 25,
      "metadata": {
        "id": "GDPh4tBYoANU",
        "outputId": "a4f8e1c6-fb2b-4c3d-99e5-3199ce0a10c4",
        "colab": {
          "base_uri": "https://localhost:8080/"
        }
      },
      "outputs": [
        {
          "output_type": "stream",
          "name": "stdout",
          "text": [
            "Tim says MEOW\n"
          ]
        }
      ],
      "source": [
        "print(my_cat.speak())"
      ]
    },
    {
      "cell_type": "markdown",
      "metadata": {
        "id": "wtIpBDWyoANU"
      },
      "source": [
        "So notice that \"my_dog\" and \"my_cat\" have the same method name called \"speak\" but they have different types of class as seen."
      ]
    },
    {
      "cell_type": "code",
      "execution_count": 26,
      "metadata": {
        "id": "zYHlZlE_oANU",
        "outputId": "c3c3c298-740b-49c5-e027-b41827efa47d",
        "colab": {
          "base_uri": "https://localhost:8080/"
        }
      },
      "outputs": [
        {
          "output_type": "stream",
          "name": "stdout",
          "text": [
            "<class '__main__.Doggy'>\n",
            "<class 'str'>\n",
            "Buzo says WOOF\n",
            "<class '__main__.Catty'>\n",
            "<class 'str'>\n",
            "Tim says MEOW\n"
          ]
        }
      ],
      "source": [
        "for pet in [my_dog, my_cat]:\n",
        "    print(type(pet))\n",
        "    print(type(pet.speak()))\n",
        "    print(pet.speak())"
      ]
    },
    {
      "cell_type": "markdown",
      "metadata": {
        "id": "9JJqd0geoANV"
      },
      "source": [
        "## Abstract classes and inheritance\n",
        "\n",
        "Abstract classes are never expected to be instantiated. An instance of such a class is never expected to be made. It is designed to only serve as a base class."
      ]
    },
    {
      "cell_type": "code",
      "execution_count": 27,
      "metadata": {
        "id": "LErgUbOKoANV"
      },
      "outputs": [],
      "source": [
        "class Animal():\n",
        "\n",
        "    def __init__(self,name):\n",
        "        self.name = name\n",
        "\n",
        "    def speak(self):\n",
        "        raise NotImplementedError(\"Subclass must implement this abtract method\")"
      ]
    },
    {
      "cell_type": "code",
      "execution_count": 28,
      "metadata": {
        "id": "vbMNTm4foANV"
      },
      "outputs": [],
      "source": [
        "my_animal = Animal(\"Tia\")"
      ]
    },
    {
      "cell_type": "code",
      "execution_count": 29,
      "metadata": {
        "id": "4FfUFGV8oANV",
        "outputId": "05bbcaaf-eab8-4bbf-f683-41195e971b3d",
        "colab": {
          "base_uri": "https://localhost:8080/",
          "height": 262
        }
      },
      "outputs": [
        {
          "output_type": "error",
          "ename": "NotImplementedError",
          "evalue": "ignored",
          "traceback": [
            "\u001b[0;31m---------------------------------------------------------------------------\u001b[0m",
            "\u001b[0;31mNotImplementedError\u001b[0m                       Traceback (most recent call last)",
            "\u001b[0;32m<ipython-input-29-ed4198de9ea6>\u001b[0m in \u001b[0;36m<cell line: 1>\u001b[0;34m()\u001b[0m\n\u001b[0;32m----> 1\u001b[0;31m \u001b[0mmy_animal\u001b[0m\u001b[0;34m.\u001b[0m\u001b[0mspeak\u001b[0m\u001b[0;34m(\u001b[0m\u001b[0;34m)\u001b[0m\u001b[0;34m\u001b[0m\u001b[0;34m\u001b[0m\u001b[0m\n\u001b[0m",
            "\u001b[0;32m<ipython-input-27-5574287b77c4>\u001b[0m in \u001b[0;36mspeak\u001b[0;34m(self)\u001b[0m\n\u001b[1;32m      5\u001b[0m \u001b[0;34m\u001b[0m\u001b[0m\n\u001b[1;32m      6\u001b[0m     \u001b[0;32mdef\u001b[0m \u001b[0mspeak\u001b[0m\u001b[0;34m(\u001b[0m\u001b[0mself\u001b[0m\u001b[0;34m)\u001b[0m\u001b[0;34m:\u001b[0m\u001b[0;34m\u001b[0m\u001b[0;34m\u001b[0m\u001b[0m\n\u001b[0;32m----> 7\u001b[0;31m         \u001b[0;32mraise\u001b[0m \u001b[0mNotImplementedError\u001b[0m\u001b[0;34m(\u001b[0m\u001b[0;34m\"Subclass must implement this abtract method\"\u001b[0m\u001b[0;34m)\u001b[0m\u001b[0;34m\u001b[0m\u001b[0;34m\u001b[0m\u001b[0m\n\u001b[0m",
            "\u001b[0;31mNotImplementedError\u001b[0m: Subclass must implement this abtract method"
          ]
        }
      ],
      "source": [
        "my_animal.speak()"
      ]
    },
    {
      "cell_type": "markdown",
      "metadata": {
        "id": "ZTmzuh4koANV"
      },
      "source": [
        "So now an error is raised since this class was never supposed to be instantiated. This is a abstract class because in the base class it is not doing anything and expects you to inherit this class and overwrite the method. Infact we need to create a subclass and implement this method which we will see below."
      ]
    },
    {
      "cell_type": "code",
      "execution_count": null,
      "metadata": {
        "id": "gdLighsToANV"
      },
      "outputs": [],
      "source": [
        "class Dog(Animal):\n",
        "\n",
        "    def speak(self):\n",
        "        return self.name + \" says Woof!\""
      ]
    },
    {
      "cell_type": "code",
      "execution_count": null,
      "metadata": {
        "id": "3dTrkyJPoANV"
      },
      "outputs": [],
      "source": [
        "class Cat(Animal):\n",
        "\n",
        "    def speak(self):\n",
        "        return self.name + \" says Meow!\""
      ]
    },
    {
      "cell_type": "code",
      "execution_count": null,
      "metadata": {
        "id": "o7cWdhAVoANW"
      },
      "outputs": [],
      "source": [
        "jim = Dog(\"Jim\")"
      ]
    },
    {
      "cell_type": "code",
      "execution_count": null,
      "metadata": {
        "id": "amq5rU39oANW"
      },
      "outputs": [],
      "source": [
        "tim = Cat(\"Tim\")"
      ]
    },
    {
      "cell_type": "code",
      "execution_count": null,
      "metadata": {
        "id": "EQ3rO4ayoANW"
      },
      "outputs": [],
      "source": [
        "print(jim.speak())"
      ]
    },
    {
      "cell_type": "code",
      "execution_count": null,
      "metadata": {
        "id": "gYKTAXSXoANW"
      },
      "outputs": [],
      "source": [
        "print(tim.speak())"
      ]
    },
    {
      "cell_type": "code",
      "execution_count": null,
      "metadata": {
        "id": "Tltj7Rk3oANW"
      },
      "outputs": [],
      "source": []
    }
  ],
  "metadata": {
    "kernelspec": {
      "display_name": "Python 3",
      "language": "python",
      "name": "python3"
    },
    "language_info": {
      "codemirror_mode": {
        "name": "ipython",
        "version": 3
      },
      "file_extension": ".py",
      "mimetype": "text/x-python",
      "name": "python",
      "nbconvert_exporter": "python",
      "pygments_lexer": "ipython3",
      "version": "3.7.7"
    },
    "colab": {
      "provenance": []
    }
  },
  "nbformat": 4,
  "nbformat_minor": 0
}