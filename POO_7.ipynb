{
  "nbformat": 4,
  "nbformat_minor": 0,
  "metadata": {
    "colab": {
      "provenance": []
    },
    "kernelspec": {
      "name": "python3",
      "display_name": "Python 3"
    },
    "language_info": {
      "name": "python"
    }
  },
  "cells": [
    {
      "cell_type": "markdown",
      "source": [
        "# If, elif y else"
      ],
      "metadata": {
        "id": "Cc7qRV0Hdygz"
      }
    },
    {
      "cell_type": "code",
      "execution_count": null,
      "metadata": {
        "colab": {
          "base_uri": "https://localhost:8080/"
        },
        "id": "SZ4Z1NWDds9r",
        "outputId": "7b2e6424-7ff0-41d6-ae96-0f9edc01b731"
      },
      "outputs": [
        {
          "output_type": "stream",
          "name": "stdout",
          "text": [
            "La letra es A\n"
          ]
        }
      ],
      "source": [
        "Letra = \"A\"\n",
        "if Letra== \"B\":\n",
        "  print(\"La letra es B\")\n",
        "elif Letra== \"C\":\n",
        "  print(\"La letra es C\")\n",
        "elif Letra== \"A\" :\n",
        "  print(\"La letra es A\")\n",
        "else:\n",
        "  print(\"La letra no es A, ni B ni C\")"
      ]
    },
    {
      "cell_type": "markdown",
      "source": [
        "## Ejemplo 2"
      ],
      "metadata": {
        "id": "XVDnisr0fAWh"
      }
    },
    {
      "cell_type": "code",
      "source": [
        "numero= int(input(\"Escribe un numero: \"))\n",
        "#Se escribe input para interactuar con el usuario"
      ],
      "metadata": {
        "colab": {
          "base_uri": "https://localhost:8080/"
        },
        "id": "YJvKsac1eyjl",
        "outputId": "ef2c9673-fde3-4d26-cc55-debb6f99b040"
      },
      "execution_count": null,
      "outputs": [
        {
          "name": "stdout",
          "output_type": "stream",
          "text": [
            "Escribe un numero: 5\n"
          ]
        }
      ]
    },
    {
      "cell_type": "code",
      "source": [
        "if numero % 2 == 0 and numero % 4 != 0:\n",
        "  print (f\"{numero} es múltimplo de dos\")\n",
        "elif numero % 4 ==0:\n",
        "  print (f\"{numero} es múltimplo de cuatro\")\n",
        "else:\n",
        "  print (f\"{numero} no es múltiplo de dos\")"
      ],
      "metadata": {
        "colab": {
          "base_uri": "https://localhost:8080/"
        },
        "id": "-78hfMnYfZDW",
        "outputId": "bd871f93-ccfa-45c1-fd3d-358c6c54c45e"
      },
      "execution_count": null,
      "outputs": [
        {
          "output_type": "stream",
          "name": "stdout",
          "text": [
            "5 no es múltiplo de dos\n"
          ]
        }
      ]
    },
    {
      "cell_type": "markdown",
      "source": [
        "## Ejemplo mio"
      ],
      "metadata": {
        "id": "IdPmc69rg4kR"
      }
    },
    {
      "cell_type": "code",
      "source": [
        "calif= float(input(\"Escribe tu calificación \"))\n",
        "\n",
        "if calif>=9:\n",
        "  print (\"Pasaste con excelencia\")\n",
        "elif calif>=6:\n",
        "  print (\"Pasaste la materia\")\n",
        "else:\n",
        "  print (\"Reprobaste\")\n"
      ],
      "metadata": {
        "colab": {
          "base_uri": "https://localhost:8080/"
        },
        "id": "V8awL6uKgLbs",
        "outputId": "b77e3a4e-22ad-4852-e1e1-4e3c61285f43"
      },
      "execution_count": null,
      "outputs": [
        {
          "output_type": "stream",
          "name": "stdout",
          "text": [
            "Escribe tu calificación 9.5\n",
            "Pasaste con excelencia\n"
          ]
        }
      ]
    },
    {
      "cell_type": "markdown",
      "source": [
        "# Clases y polimorfismos"
      ],
      "metadata": {
        "id": "7Y06u8pbmj76"
      }
    },
    {
      "cell_type": "code",
      "source": [
        "#Class (nombre)\n",
        "#   self--- autoasigna una variable\n",
        "class Mascota:\n",
        "  def hable(self):\n",
        "    return NotImplementedError  #Error que no se estableció, omite todos los posibles errores que haya\n",
        "\n",
        "class Perro (Mascota):\n",
        "  def hable (self):\n",
        "    return \"Woof\"\n",
        "\n",
        "class Gato (Mascota):\n",
        "  def hable (self):\n",
        "    return \"Miau\"\n",
        "\n",
        "\n"
      ],
      "metadata": {
        "id": "2lH_jo8BiOiN"
      },
      "execution_count": null,
      "outputs": []
    },
    {
      "cell_type": "code",
      "source": [
        "#Vamos a crear una lista de mascotas\n",
        "mascotas= [Perro(), Gato()] #Generador de objetos dentro de la clase\n",
        "mascotas"
      ],
      "metadata": {
        "colab": {
          "base_uri": "https://localhost:8080/"
        },
        "id": "44Yv6jINmrUZ",
        "outputId": "e447f2b5-291d-4088-ad8d-58d92f5177ac"
      },
      "execution_count": null,
      "outputs": [
        {
          "output_type": "execute_result",
          "data": {
            "text/plain": [
              "[<__main__.Perro at 0x7f4b3996d630>, <__main__.Gato at 0x7f4b3996e770>]"
            ]
          },
          "metadata": {},
          "execution_count": 15
        }
      ]
    },
    {
      "cell_type": "code",
      "source": [
        "range (0,11)"
      ],
      "metadata": {
        "colab": {
          "base_uri": "https://localhost:8080/"
        },
        "id": "oY0NockLoZOJ",
        "outputId": "78a3d37f-6a19-4c53-da12-3833554a2b33"
      },
      "execution_count": null,
      "outputs": [
        {
          "output_type": "execute_result",
          "data": {
            "text/plain": [
              "range(0, 11)"
            ]
          },
          "metadata": {},
          "execution_count": 16
        }
      ]
    },
    {
      "cell_type": "code",
      "source": [
        "for i in range (0,11):\n",
        "  print (i)"
      ],
      "metadata": {
        "colab": {
          "base_uri": "https://localhost:8080/"
        },
        "id": "TCNRp3RKpD-7",
        "outputId": "cd610ab2-c10f-444a-8bb7-defd6d465451"
      },
      "execution_count": null,
      "outputs": [
        {
          "output_type": "stream",
          "name": "stdout",
          "text": [
            "0\n",
            "1\n",
            "2\n",
            "3\n",
            "4\n",
            "5\n",
            "6\n",
            "7\n",
            "8\n",
            "9\n",
            "10\n"
          ]
        }
      ]
    },
    {
      "cell_type": "code",
      "source": [
        "for mascota in mascotas:\n",
        "  print(mascota.hable())"
      ],
      "metadata": {
        "colab": {
          "base_uri": "https://localhost:8080/"
        },
        "id": "jgYNvpmjpXI2",
        "outputId": "e044d07d-ad79-4e5f-e9a8-d71f738478d8"
      },
      "execution_count": null,
      "outputs": [
        {
          "output_type": "stream",
          "name": "stdout",
          "text": [
            "Woof\n",
            "Miau\n"
          ]
        }
      ]
    },
    {
      "cell_type": "code",
      "source": [
        "class Mascota:\n",
        "  def hable(self):\n",
        "    return NotImplementedError  #Error que no se estableció, omite todos los posibles errores que haya\n",
        "\n",
        "class Perro (Mascota):\n",
        "  def hable (self):\n",
        "    return \"Woof\"\n",
        "\n",
        "class Gato (Mascota):\n",
        "  def hable (self):\n",
        "    return \"Miau\"\n",
        "\n",
        "class Vaca (Mascota):\n",
        "  def hable (self):\n",
        "    return \"Muuuu\"\n",
        "\n",
        "class Leon (Mascota):\n",
        "  def hable (self):\n",
        "    return \"Roar\""
      ],
      "metadata": {
        "id": "I4gLpgvTphJP"
      },
      "execution_count": null,
      "outputs": []
    },
    {
      "cell_type": "code",
      "source": [
        "mascotas= [Perro(), Gato(), Vaca(), Leon()]\n",
        "mascotas\n",
        "for mascota in mascotas:\n",
        "  print(mascota.hable())"
      ],
      "metadata": {
        "colab": {
          "base_uri": "https://localhost:8080/"
        },
        "id": "V9zaT-doqYlO",
        "outputId": "3fe423ad-5cc1-4f46-a2bf-d20751b5586a"
      },
      "execution_count": null,
      "outputs": [
        {
          "output_type": "stream",
          "name": "stdout",
          "text": [
            "Woof\n",
            "Miau\n",
            "Muuuu\n",
            "Roar\n"
          ]
        }
      ]
    },
    {
      "cell_type": "code",
      "source": [
        "class Persona:\n",
        "  def __init__ (self, nombre, edad):\n",
        "      self.nombre=nombre\n",
        "      self.edad=edad"
      ],
      "metadata": {
        "id": "i5DOxqxwqsy8"
      },
      "execution_count": null,
      "outputs": []
    },
    {
      "cell_type": "code",
      "source": [
        "Eduardo= Persona (\"Eduardo\", 19)"
      ],
      "metadata": {
        "id": "DqA8F4S6rea6"
      },
      "execution_count": null,
      "outputs": []
    },
    {
      "cell_type": "code",
      "source": [
        "Eduardo.nombre"
      ],
      "metadata": {
        "colab": {
          "base_uri": "https://localhost:8080/",
          "height": 35
        },
        "id": "7H5JKZGMroKY",
        "outputId": "56f294db-f68b-47f3-bc71-b3320dc5c995"
      },
      "execution_count": null,
      "outputs": [
        {
          "output_type": "execute_result",
          "data": {
            "text/plain": [
              "'Eduardo'"
            ],
            "application/vnd.google.colaboratory.intrinsic+json": {
              "type": "string"
            }
          },
          "metadata": {},
          "execution_count": 29
        }
      ]
    },
    {
      "cell_type": "code",
      "source": [
        "Eduardo.edad"
      ],
      "metadata": {
        "colab": {
          "base_uri": "https://localhost:8080/"
        },
        "id": "rN5zkCtDrqDU",
        "outputId": "f59b4471-4b3d-4078-b1ec-d02aa971ff0f"
      },
      "execution_count": null,
      "outputs": [
        {
          "output_type": "execute_result",
          "data": {
            "text/plain": [
              "19"
            ]
          },
          "metadata": {},
          "execution_count": 32
        }
      ]
    },
    {
      "cell_type": "code",
      "source": [],
      "metadata": {
        "id": "0js5zwI-sAWM"
      },
      "execution_count": null,
      "outputs": []
    }
  ]
}